{
 "cells": [
  {
   "cell_type": "markdown",
   "id": "9db6d58a",
   "metadata": {},
   "source": [
    "# Import Libraries"
   ]
  },
  {
   "cell_type": "code",
   "execution_count": 1,
   "id": "2055cdf3",
   "metadata": {},
   "outputs": [],
   "source": [
    "import numpy as np\n",
    "import pandas as pd\n",
    "import seaborn as sns\n",
    "import matplotlib.pyplot as plt\n",
    "%matplotlib inline"
   ]
  },
  {
   "cell_type": "markdown",
   "id": "11f7fabc",
   "metadata": {},
   "source": [
    "# Import Dataset"
   ]
  },
  {
   "cell_type": "code",
   "execution_count": 29,
   "id": "57829d29",
   "metadata": {},
   "outputs": [],
   "source": [
    "df=pd.read_csv(\"1000_Companies.csv\")"
   ]
  },
  {
   "cell_type": "markdown",
   "id": "9379a71e",
   "metadata": {},
   "source": [
    "# View the Dataset"
   ]
  },
  {
   "cell_type": "code",
   "execution_count": 3,
   "id": "03703e01",
   "metadata": {},
   "outputs": [
    {
     "data": {
      "text/html": [
       "<div>\n",
       "<style scoped>\n",
       "    .dataframe tbody tr th:only-of-type {\n",
       "        vertical-align: middle;\n",
       "    }\n",
       "\n",
       "    .dataframe tbody tr th {\n",
       "        vertical-align: top;\n",
       "    }\n",
       "\n",
       "    .dataframe thead th {\n",
       "        text-align: right;\n",
       "    }\n",
       "</style>\n",
       "<table border=\"1\" class=\"dataframe\">\n",
       "  <thead>\n",
       "    <tr style=\"text-align: right;\">\n",
       "      <th></th>\n",
       "      <th>R&amp;D Spend</th>\n",
       "      <th>Administration</th>\n",
       "      <th>Marketing Spend</th>\n",
       "      <th>State</th>\n",
       "      <th>Profit</th>\n",
       "    </tr>\n",
       "  </thead>\n",
       "  <tbody>\n",
       "    <tr>\n",
       "      <th>0</th>\n",
       "      <td>165349.20</td>\n",
       "      <td>136897.80</td>\n",
       "      <td>471784.10</td>\n",
       "      <td>New York</td>\n",
       "      <td>192261.83</td>\n",
       "    </tr>\n",
       "    <tr>\n",
       "      <th>1</th>\n",
       "      <td>162597.70</td>\n",
       "      <td>151377.59</td>\n",
       "      <td>443898.53</td>\n",
       "      <td>California</td>\n",
       "      <td>191792.06</td>\n",
       "    </tr>\n",
       "    <tr>\n",
       "      <th>2</th>\n",
       "      <td>153441.51</td>\n",
       "      <td>101145.55</td>\n",
       "      <td>407934.54</td>\n",
       "      <td>Florida</td>\n",
       "      <td>191050.39</td>\n",
       "    </tr>\n",
       "    <tr>\n",
       "      <th>3</th>\n",
       "      <td>144372.41</td>\n",
       "      <td>118671.85</td>\n",
       "      <td>383199.62</td>\n",
       "      <td>New York</td>\n",
       "      <td>182901.99</td>\n",
       "    </tr>\n",
       "    <tr>\n",
       "      <th>4</th>\n",
       "      <td>142107.34</td>\n",
       "      <td>91391.77</td>\n",
       "      <td>366168.42</td>\n",
       "      <td>Florida</td>\n",
       "      <td>166187.94</td>\n",
       "    </tr>\n",
       "    <tr>\n",
       "      <th>5</th>\n",
       "      <td>131876.90</td>\n",
       "      <td>99814.71</td>\n",
       "      <td>362861.36</td>\n",
       "      <td>New York</td>\n",
       "      <td>156991.12</td>\n",
       "    </tr>\n",
       "    <tr>\n",
       "      <th>6</th>\n",
       "      <td>134615.46</td>\n",
       "      <td>147198.87</td>\n",
       "      <td>127716.82</td>\n",
       "      <td>California</td>\n",
       "      <td>156122.51</td>\n",
       "    </tr>\n",
       "    <tr>\n",
       "      <th>7</th>\n",
       "      <td>130298.13</td>\n",
       "      <td>145530.06</td>\n",
       "      <td>323876.68</td>\n",
       "      <td>Florida</td>\n",
       "      <td>155752.60</td>\n",
       "    </tr>\n",
       "    <tr>\n",
       "      <th>8</th>\n",
       "      <td>120542.52</td>\n",
       "      <td>148718.95</td>\n",
       "      <td>311613.29</td>\n",
       "      <td>New York</td>\n",
       "      <td>152211.77</td>\n",
       "    </tr>\n",
       "    <tr>\n",
       "      <th>9</th>\n",
       "      <td>123334.88</td>\n",
       "      <td>108679.17</td>\n",
       "      <td>304981.62</td>\n",
       "      <td>California</td>\n",
       "      <td>149759.96</td>\n",
       "    </tr>\n",
       "  </tbody>\n",
       "</table>\n",
       "</div>"
      ],
      "text/plain": [
       "   R&D Spend  Administration  Marketing Spend       State     Profit\n",
       "0  165349.20       136897.80        471784.10    New York  192261.83\n",
       "1  162597.70       151377.59        443898.53  California  191792.06\n",
       "2  153441.51       101145.55        407934.54     Florida  191050.39\n",
       "3  144372.41       118671.85        383199.62    New York  182901.99\n",
       "4  142107.34        91391.77        366168.42     Florida  166187.94\n",
       "5  131876.90        99814.71        362861.36    New York  156991.12\n",
       "6  134615.46       147198.87        127716.82  California  156122.51\n",
       "7  130298.13       145530.06        323876.68     Florida  155752.60\n",
       "8  120542.52       148718.95        311613.29    New York  152211.77\n",
       "9  123334.88       108679.17        304981.62  California  149759.96"
      ]
     },
     "execution_count": 3,
     "metadata": {},
     "output_type": "execute_result"
    }
   ],
   "source": [
    "df.head(10)"
   ]
  },
  {
   "cell_type": "code",
   "execution_count": 6,
   "id": "8b677fc5",
   "metadata": {},
   "outputs": [
    {
     "data": {
      "text/plain": [
       "R&D Spend          float64\n",
       "Administration     float64\n",
       "Marketing Spend    float64\n",
       "State               object\n",
       "Profit             float64\n",
       "dtype: object"
      ]
     },
     "execution_count": 6,
     "metadata": {},
     "output_type": "execute_result"
    }
   ],
   "source": [
    "df.dtypes"
   ]
  },
  {
   "cell_type": "code",
   "execution_count": 7,
   "id": "862de537",
   "metadata": {},
   "outputs": [
    {
     "data": {
      "text/html": [
       "<div>\n",
       "<style scoped>\n",
       "    .dataframe tbody tr th:only-of-type {\n",
       "        vertical-align: middle;\n",
       "    }\n",
       "\n",
       "    .dataframe tbody tr th {\n",
       "        vertical-align: top;\n",
       "    }\n",
       "\n",
       "    .dataframe thead th {\n",
       "        text-align: right;\n",
       "    }\n",
       "</style>\n",
       "<table border=\"1\" class=\"dataframe\">\n",
       "  <thead>\n",
       "    <tr style=\"text-align: right;\">\n",
       "      <th></th>\n",
       "      <th>R&amp;D Spend</th>\n",
       "      <th>Administration</th>\n",
       "      <th>Marketing Spend</th>\n",
       "      <th>Profit</th>\n",
       "    </tr>\n",
       "  </thead>\n",
       "  <tbody>\n",
       "    <tr>\n",
       "      <th>count</th>\n",
       "      <td>1000.000000</td>\n",
       "      <td>1000.000000</td>\n",
       "      <td>1000.000000</td>\n",
       "      <td>1000.000000</td>\n",
       "    </tr>\n",
       "    <tr>\n",
       "      <th>mean</th>\n",
       "      <td>81668.927200</td>\n",
       "      <td>122963.897612</td>\n",
       "      <td>226205.058419</td>\n",
       "      <td>119546.164656</td>\n",
       "    </tr>\n",
       "    <tr>\n",
       "      <th>std</th>\n",
       "      <td>46537.567891</td>\n",
       "      <td>12613.927535</td>\n",
       "      <td>91578.393542</td>\n",
       "      <td>42888.633848</td>\n",
       "    </tr>\n",
       "    <tr>\n",
       "      <th>min</th>\n",
       "      <td>0.000000</td>\n",
       "      <td>51283.140000</td>\n",
       "      <td>0.000000</td>\n",
       "      <td>14681.400000</td>\n",
       "    </tr>\n",
       "    <tr>\n",
       "      <th>25%</th>\n",
       "      <td>43084.500000</td>\n",
       "      <td>116640.684850</td>\n",
       "      <td>150969.584600</td>\n",
       "      <td>85943.198543</td>\n",
       "    </tr>\n",
       "    <tr>\n",
       "      <th>50%</th>\n",
       "      <td>79936.000000</td>\n",
       "      <td>122421.612150</td>\n",
       "      <td>224517.887350</td>\n",
       "      <td>117641.466300</td>\n",
       "    </tr>\n",
       "    <tr>\n",
       "      <th>75%</th>\n",
       "      <td>124565.500000</td>\n",
       "      <td>129139.118000</td>\n",
       "      <td>308189.808525</td>\n",
       "      <td>155577.107425</td>\n",
       "    </tr>\n",
       "    <tr>\n",
       "      <th>max</th>\n",
       "      <td>165349.200000</td>\n",
       "      <td>321652.140000</td>\n",
       "      <td>471784.100000</td>\n",
       "      <td>476485.430000</td>\n",
       "    </tr>\n",
       "  </tbody>\n",
       "</table>\n",
       "</div>"
      ],
      "text/plain": [
       "           R&D Spend  Administration  Marketing Spend         Profit\n",
       "count    1000.000000     1000.000000      1000.000000    1000.000000\n",
       "mean    81668.927200   122963.897612    226205.058419  119546.164656\n",
       "std     46537.567891    12613.927535     91578.393542   42888.633848\n",
       "min         0.000000    51283.140000         0.000000   14681.400000\n",
       "25%     43084.500000   116640.684850    150969.584600   85943.198543\n",
       "50%     79936.000000   122421.612150    224517.887350  117641.466300\n",
       "75%    124565.500000   129139.118000    308189.808525  155577.107425\n",
       "max    165349.200000   321652.140000    471784.100000  476485.430000"
      ]
     },
     "execution_count": 7,
     "metadata": {},
     "output_type": "execute_result"
    }
   ],
   "source": [
    "df.describe()"
   ]
  },
  {
   "cell_type": "markdown",
   "id": "346b67a5",
   "metadata": {},
   "source": [
    "Checking if there are any Missing Data"
   ]
  },
  {
   "cell_type": "code",
   "execution_count": 9,
   "id": "3d1d2ee6",
   "metadata": {},
   "outputs": [
    {
     "data": {
      "text/plain": [
       "R&D Spend          0\n",
       "Administration     0\n",
       "Marketing Spend    0\n",
       "State              0\n",
       "Profit             0\n",
       "dtype: int64"
      ]
     },
     "execution_count": 9,
     "metadata": {},
     "output_type": "execute_result"
    }
   ],
   "source": [
    "df.isnull().sum()"
   ]
  },
  {
   "cell_type": "code",
   "execution_count": 13,
   "id": "e571b8f3",
   "metadata": {},
   "outputs": [
    {
     "data": {
      "text/plain": [
       "State\n",
       "California    344\n",
       "Florida       322\n",
       "New York      334\n",
       "dtype: int64"
      ]
     },
     "execution_count": 13,
     "metadata": {},
     "output_type": "execute_result"
    }
   ],
   "source": [
    "df.groupby(\"State\").size()"
   ]
  },
  {
   "cell_type": "markdown",
   "id": "4090ed67",
   "metadata": {},
   "source": [
    "# Visualization Of the Data"
   ]
  },
  {
   "cell_type": "markdown",
   "id": "23652c23",
   "metadata": {},
   "source": [
    "Check to see how the dataset correlate with each other"
   ]
  },
  {
   "cell_type": "code",
   "execution_count": 14,
   "id": "0c447912",
   "metadata": {},
   "outputs": [
    {
     "data": {
      "text/plain": [
       "<AxesSubplot:>"
      ]
     },
     "execution_count": 14,
     "metadata": {},
     "output_type": "execute_result"
    },
    {
     "data": {
      "image/png": "[encoded data removed]",
      "text/plain": [
       "<Figure size 432x288 with 2 Axes>"
      ]
     },
     "metadata": {
      "needs_background": "light"
     },
     "output_type": "display_data"
    }
   ],
   "source": [
    "sns.heatmap(df.corr())"
   ]
  },
  {
   "cell_type": "markdown",
   "id": "757090f8",
   "metadata": {},
   "source": [
    "# Define X and Y"
   ]
  },
  {
   "cell_type": "code",
   "execution_count": 15,
   "id": "abd32ab2",
   "metadata": {},
   "outputs": [],
   "source": [
    "X=df.drop([\"State\", \"Profit\"], axis=1)\n",
    "Y=df[\"Profit\"]"
   ]
  },
  {
   "cell_type": "code",
   "execution_count": 16,
   "id": "07f91030",
   "metadata": {},
   "outputs": [
    {
     "data": {
      "text/html": [
       "<div>\n",
       "<style scoped>\n",
       "    .dataframe tbody tr th:only-of-type {\n",
       "        vertical-align: middle;\n",
       "    }\n",
       "\n",
       "    .dataframe tbody tr th {\n",
       "        vertical-align: top;\n",
       "    }\n",
       "\n",
       "    .dataframe thead th {\n",
       "        text-align: right;\n",
       "    }\n",
       "</style>\n",
       "<table border=\"1\" class=\"dataframe\">\n",
       "  <thead>\n",
       "    <tr style=\"text-align: right;\">\n",
       "      <th></th>\n",
       "      <th>R&amp;D Spend</th>\n",
       "      <th>Administration</th>\n",
       "      <th>Marketing Spend</th>\n",
       "    </tr>\n",
       "  </thead>\n",
       "  <tbody>\n",
       "    <tr>\n",
       "      <th>0</th>\n",
       "      <td>165349.20</td>\n",
       "      <td>136897.80</td>\n",
       "      <td>471784.10</td>\n",
       "    </tr>\n",
       "    <tr>\n",
       "      <th>1</th>\n",
       "      <td>162597.70</td>\n",
       "      <td>151377.59</td>\n",
       "      <td>443898.53</td>\n",
       "    </tr>\n",
       "    <tr>\n",
       "      <th>2</th>\n",
       "      <td>153441.51</td>\n",
       "      <td>101145.55</td>\n",
       "      <td>407934.54</td>\n",
       "    </tr>\n",
       "    <tr>\n",
       "      <th>3</th>\n",
       "      <td>144372.41</td>\n",
       "      <td>118671.85</td>\n",
       "      <td>383199.62</td>\n",
       "    </tr>\n",
       "    <tr>\n",
       "      <th>4</th>\n",
       "      <td>142107.34</td>\n",
       "      <td>91391.77</td>\n",
       "      <td>366168.42</td>\n",
       "    </tr>\n",
       "  </tbody>\n",
       "</table>\n",
       "</div>"
      ],
      "text/plain": [
       "   R&D Spend  Administration  Marketing Spend\n",
       "0  165349.20       136897.80        471784.10\n",
       "1  162597.70       151377.59        443898.53\n",
       "2  153441.51       101145.55        407934.54\n",
       "3  144372.41       118671.85        383199.62\n",
       "4  142107.34        91391.77        366168.42"
      ]
     },
     "execution_count": 16,
     "metadata": {},
     "output_type": "execute_result"
    }
   ],
   "source": [
    "X.head()"
   ]
  },
  {
   "cell_type": "code",
   "execution_count": 17,
   "id": "5520d481",
   "metadata": {},
   "outputs": [
    {
     "data": {
      "text/plain": [
       "0    192261.83\n",
       "1    191792.06\n",
       "2    191050.39\n",
       "3    182901.99\n",
       "4    166187.94\n",
       "Name: Profit, dtype: float64"
      ]
     },
     "execution_count": 17,
     "metadata": {},
     "output_type": "execute_result"
    }
   ],
   "source": [
    "Y.head()"
   ]
  },
  {
   "cell_type": "markdown",
   "id": "298d18bc",
   "metadata": {},
   "source": [
    "# Split the Data into Test and Train"
   ]
  },
  {
   "cell_type": "code",
   "execution_count": 18,
   "id": "68ef7d5c",
   "metadata": {},
   "outputs": [],
   "source": [
    "from sklearn.model_selection import train_test_split"
   ]
  },
  {
   "cell_type": "code",
   "execution_count": 19,
   "id": "d7db3fac",
   "metadata": {},
   "outputs": [],
   "source": [
    "X_train, X_test, Y_train, Y_test = train_test_split(X, Y, test_size=0.3, random_state=0)"
   ]
  },
  {
   "cell_type": "markdown",
   "id": "e9b20cc2",
   "metadata": {},
   "source": [
    "# Model of the Data"
   ]
  },
  {
   "cell_type": "code",
   "execution_count": 20,
   "id": "949117ef",
   "metadata": {},
   "outputs": [],
   "source": [
    "from sklearn.linear_model import LinearRegression\n",
    "LR= LinearRegression()"
   ]
  },
  {
   "cell_type": "code",
   "execution_count": 21,
   "id": "3954c935",
   "metadata": {},
   "outputs": [
    {
     "data": {
      "text/plain": [
       "LinearRegression()"
      ]
     },
     "execution_count": 21,
     "metadata": {},
     "output_type": "execute_result"
    }
   ],
   "source": [
    "LR.fit(X_train,Y_train)"
   ]
  },
  {
   "cell_type": "markdown",
   "id": "432e502d",
   "metadata": {},
   "source": [
    "# Predictions"
   ]
  },
  {
   "cell_type": "code",
   "execution_count": 22,
   "id": "a0476368",
   "metadata": {},
   "outputs": [],
   "source": [
    "pred_Y = LR.predict(X_test)"
   ]
  },
  {
   "cell_type": "code",
   "execution_count": 23,
   "id": "e971d917",
   "metadata": {},
   "outputs": [
    {
     "data": {
      "text/plain": [
       "array([ 88956.51235675,  87590.33288232,  94070.44261188, 175895.04692542,\n",
       "        83264.8145068 , 110477.49237073, 131430.2598783 ,  90642.52735311,\n",
       "       164607.08606112,  53200.26939431,  66071.93223218, 150732.06810844,\n",
       "       126152.87519631,  58444.88520795, 176849.39498851,  75153.71533755,\n",
       "       118351.29429923, 163884.87669731, 175400.90815642, 182112.92585765,\n",
       "       124261.66808511,  84827.88205071, 181217.0423071 ,  83300.06523457,\n",
       "       104201.14892595, 100421.58636367,  56176.51178313,  56683.21021556,\n",
       "        68021.89761145, 211034.28879633, 120886.76507098, 110933.17209544,\n",
       "       101375.93452471, 138100.28197215,  63085.94027719, 108060.67022905,\n",
       "       186066.16240107, 171648.62759104, 174856.44098586, 117773.52671411,\n",
       "        96610.21232336, 164764.42456104, 106924.90997596,  50166.13018234,\n",
       "       116613.69288829,  57738.15173913, 158597.27225544,  78567.87418509,\n",
       "       159911.00551765, 131265.94577114, 185112.67412592, 174821.19035605,\n",
       "        92919.20647932,  78184.41540355, 180787.15575041,  84499.44872788,\n",
       "       143051.71519558, 170640.11384748,  84220.02245579, 105202.78456184,\n",
       "       141808.48328125,  52320.72153057, 141109.48771191, 139137.16833581,\n",
       "        97476.86355411, 113681.00692377, 126691.09311394, 152121.46136766,\n",
       "        58670.14580151, 174497.0558847 , 123857.2811271 , 168384.92904751,\n",
       "        91330.34587505, 156164.11441725,  83462.56236422,  77720.13799529,\n",
       "       120521.36154245,  93252.79842217, 138281.69404479, 142874.60185705,\n",
       "       171353.72542978, 139346.09314266, 106267.18356176, 154934.63892385,\n",
       "       139992.64251917, 110077.69791207,  68799.99223162,  88010.76197721,\n",
       "       139396.8197693 , 148457.96825782, 157913.75267323,  57638.41806951,\n",
       "        93580.37195705, 112738.69559807,  56357.35616444, 107314.38718487,\n",
       "       147512.21787828, 152130.05914916, 167824.35692744, 117972.13435947,\n",
       "       120871.28917211, 139173.27875357, 157524.27547402, 122072.39215306,\n",
       "        86951.52150907, 104870.05229929,  95211.36148499, 178426.21885539,\n",
       "       181286.68387674, 109735.50817802, 164565.81700394, 167122.78208252,\n",
       "       157999.72992967, 174812.59257454, 169518.10992706,  51395.60567575,\n",
       "       176272.48728929, 103946.65602423,  81862.52461461, 138850.86385811,\n",
       "       144428.21183151, 161866.12953635, 169864.5985029 , 120558.33175785,\n",
       "       159062.40944195, 109419.11170023, 169694.36336999,  59870.38898579,\n",
       "       158336.76102431, 157467.53042972, 174540.90429602, 156288.78155325,\n",
       "       102907.19039468,  85493.34637022, 140869.61101907, 165930.27690248,\n",
       "       121290.85847906, 173394.64562008, 100574.62602182,  82130.7738393 ,\n",
       "       177980.85639012, 100979.57911989,  70335.54693367,  90116.34628052,\n",
       "        61057.73564085,  68737.22876965,  72791.05886664, 176248.41360891,\n",
       "        89752.66222993, 133277.27462505,  92726.61734958,  88695.82715929,\n",
       "       172162.77193594,  60003.65380825, 169217.18933844, 165764.34061135,\n",
       "       165619.89874441, 102242.58576517, 181637.47130405,  73719.61378112,\n",
       "        90436.18181214, 135046.36802341,  64740.14370727,  71606.2915822 ,\n",
       "        60412.90584605, 184519.43064193, 176502.04672268, 158906.79052762,\n",
       "       141324.43104409, 154601.90676895,  58354.60901372,  90668.32060937,\n",
       "       152872.90304156, 168598.15269614,  72317.32388892, 116163.17180301,\n",
       "        80117.18530806, 149810.39131133, 116724.60361306, 129435.48879049,\n",
       "       174746.39005874, 312997.56620629, 145545.91681219, 150629.75507693,\n",
       "        86148.49343028,  69977.0215225 ,  70106.84728822,  68159.46127278,\n",
       "       120591.86290973,  89542.87762543, 167021.32893691, 124749.72552587,\n",
       "        67031.43902295, 136447.66720508, 117765.7888185 , 165210.64680455,\n",
       "       168856.08466138, 146286.18143871, 141361.40124979, 108989.22513383,\n",
       "        81723.24137739, 156716.94854375, 135834.77990303,  59823.96120578,\n",
       "       143217.65137906, 176328.37254564,  87152.70842031, 135885.50651996,\n",
       "       169863.73871495,  94957.72846918, 136534.63516236, 126240.57202865,\n",
       "        26466.75157899,  71066.35408869, 166857.11223137, 139106.21644982,\n",
       "       127182.02356641, 137927.46757335,  81915.26871218, 130096.65436617,\n",
       "       170207.64791724, 108968.59060524, 123838.36608615, 117415.00140089,\n",
       "        59739.70343115, 126479.58894325, 179071.90843425,  53839.94055842,\n",
       "       122738.81005227, 173420.61995149,  69817.96354463, 152340.70354161,\n",
       "       134503.85115636,  59523.04062201,  85766.75421493,  84699.77586088,\n",
       "        98401.97941476,  76091.72772353, 127646.30107263, 110308.97682341,\n",
       "        59096.59321128, 101141.21646159, 147189.80297312, 158548.2652047 ,\n",
       "       161442.26138762, 185539.98131878,  55563.78565317, 153508.46989549,\n",
       "        67087.32427931, 163575.35842513,  64135.72326414,  59018.35385626,\n",
       "       140511.08569615,  61995.74802489,  60712.10685393, 129178.41672084,\n",
       "       167820.91787361, 120939.21127351,  65538.87294428,  27103.88148303,\n",
       "       147004.95174869, 178025.56459909, 175492.67309323, 138338.4390891 ,\n",
       "        76219.83391335, 180787.15575041, 104908.74208088, 102303.62965125,\n",
       "       172863.48698322, 129138.00736335, 144586.41011938, 120764.67729882,\n",
       "       123650.93558613, 105726.38636855,  74057.50457545, 110444.8210068 ,\n",
       "        80751.69783954, 152151.5534657 , 126299.89643679,  65610.2340898 ,\n",
       "        77231.7868087 ,  92254.60194776, 156522.63983812, 144483.23729022,\n",
       "       164758.40613368,  52469.5018783 ,  99211.02591122, 159567.9561033 ,\n",
       "       141753.45782254,  89866.15231853,  98783.71871836, 170123.39014844,\n",
       "       181978.80124046, 140524.84201913, 158956.65735661, 142575.40085402,\n",
       "       344060.43730769, 139119.97286105, 143626.90331891, 118216.84584055])"
      ]
     },
     "execution_count": 23,
     "metadata": {},
     "output_type": "execute_result"
    }
   ],
   "source": [
    "pred_Y"
   ]
  },
  {
   "cell_type": "code",
   "execution_count": 24,
   "id": "968a239b",
   "metadata": {},
   "outputs": [
    {
     "data": {
      "text/plain": [
       "array([201008.97589549])"
      ]
     },
     "execution_count": 24,
     "metadata": {},
     "output_type": "execute_result"
    }
   ],
   "source": [
    "LR.predict([[165349.20, 136897.80, 471784.10]])"
   ]
  },
  {
   "cell_type": "markdown",
   "id": "d8288e76",
   "metadata": {},
   "source": [
    "# Accuracy of The Model"
   ]
  },
  {
   "cell_type": "code",
   "execution_count": 25,
   "id": "1212aeed",
   "metadata": {},
   "outputs": [
    {
     "data": {
      "text/plain": [
       "93.12800781130099"
      ]
     },
     "execution_count": 25,
     "metadata": {},
     "output_type": "execute_result"
    }
   ],
   "source": [
    "from sklearn.metrics import r2_score\n",
    "r2_score(Y_test, pred_Y)*100"
   ]
  },
  {
   "cell_type": "code",
   "execution_count": null,
   "id": "08f68a7d",
   "metadata": {},
   "outputs": [],
   "source": []
  }
 ],
 "metadata": {
  "kernelspec": {
   "display_name": "Python 3",
   "language": "python",
   "name": "python3"
  },
  "language_info": {
   "codemirror_mode": {
    "name": "ipython",
    "version": 3
   },
   "file_extension": ".py",
   "mimetype": "text/x-python",
   "name": "python",
   "nbconvert_exporter": "python",
   "pygments_lexer": "ipython3",
   "version": "3.8.8"
  }
 },
 "nbformat": 4,
 "nbformat_minor": 5
}
